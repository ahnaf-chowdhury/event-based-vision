{
 "cells": [
  {
   "cell_type": "code",
   "execution_count": 12,
   "id": "aaa81b4c",
   "metadata": {},
   "outputs": [],
   "source": [
    "import numpy as np\n",
    "import pandas as pd\n",
    "import matplotlib.pyplot as plt\n",
    "from aermanager.aerparser import load_events_from_file\n",
    "\n",
    "from aermanager.parsers import parse_dvs_ibm"
   ]
  },
  {
   "cell_type": "code",
   "execution_count": 13,
   "id": "02a13032",
   "metadata": {},
   "outputs": [],
   "source": [
    "user = \"01\"\n",
    "# lighting = \"natural\"\n",
    "# lighting = \"fluorescent\"\n",
    "# lighting = \"fluorescent_led\"\n",
    "# lighting = \"lab\"\n",
    "lighting = \"led\"\n",
    "\n"
   ]
  },
  {
   "cell_type": "code",
   "execution_count": 14,
   "id": "fea1d6f1",
   "metadata": {},
   "outputs": [],
   "source": [
    "labels_path = \"DvsGesture/user\" + user + \"_\" + lighting + \"_labels.csv\"\n",
    "events_path = \"DvsGesture/user\" + user + \"_\" + lighting + \".aedat\""
   ]
  },
  {
   "cell_type": "code",
   "execution_count": 15,
   "id": "25a95bba",
   "metadata": {},
   "outputs": [
    {
     "data": {
      "text/html": [
       "<div>\n",
       "<style scoped>\n",
       "    .dataframe tbody tr th:only-of-type {\n",
       "        vertical-align: middle;\n",
       "    }\n",
       "\n",
       "    .dataframe tbody tr th {\n",
       "        vertical-align: top;\n",
       "    }\n",
       "\n",
       "    .dataframe thead th {\n",
       "        text-align: right;\n",
       "    }\n",
       "</style>\n",
       "<table border=\"1\" class=\"dataframe\">\n",
       "  <thead>\n",
       "    <tr style=\"text-align: right;\">\n",
       "      <th></th>\n",
       "      <th>class</th>\n",
       "      <th>startTime_usec</th>\n",
       "      <th>endTime_usec</th>\n",
       "    </tr>\n",
       "  </thead>\n",
       "  <tbody>\n",
       "    <tr>\n",
       "      <th>0</th>\n",
       "      <td>1</td>\n",
       "      <td>48486443</td>\n",
       "      <td>53269496</td>\n",
       "    </tr>\n",
       "    <tr>\n",
       "      <th>1</th>\n",
       "      <td>2</td>\n",
       "      <td>54965479</td>\n",
       "      <td>61654131</td>\n",
       "    </tr>\n",
       "    <tr>\n",
       "      <th>2</th>\n",
       "      <td>3</td>\n",
       "      <td>62416370</td>\n",
       "      <td>67828271</td>\n",
       "    </tr>\n",
       "    <tr>\n",
       "      <th>3</th>\n",
       "      <td>4</td>\n",
       "      <td>70801005</td>\n",
       "      <td>78747352</td>\n",
       "    </tr>\n",
       "    <tr>\n",
       "      <th>4</th>\n",
       "      <td>5</td>\n",
       "      <td>79566760</td>\n",
       "      <td>86941427</td>\n",
       "    </tr>\n",
       "    <tr>\n",
       "      <th>5</th>\n",
       "      <td>6</td>\n",
       "      <td>89799825</td>\n",
       "      <td>98108236</td>\n",
       "    </tr>\n",
       "    <tr>\n",
       "      <th>6</th>\n",
       "      <td>7</td>\n",
       "      <td>98279740</td>\n",
       "      <td>104168041</td>\n",
       "    </tr>\n",
       "    <tr>\n",
       "      <th>7</th>\n",
       "      <td>8</td>\n",
       "      <td>104911224</td>\n",
       "      <td>112419283</td>\n",
       "    </tr>\n",
       "    <tr>\n",
       "      <th>8</th>\n",
       "      <td>8</td>\n",
       "      <td>112667011</td>\n",
       "      <td>118745871</td>\n",
       "    </tr>\n",
       "    <tr>\n",
       "      <th>9</th>\n",
       "      <td>9</td>\n",
       "      <td>119774895</td>\n",
       "      <td>126635051</td>\n",
       "    </tr>\n",
       "    <tr>\n",
       "      <th>10</th>\n",
       "      <td>10</td>\n",
       "      <td>128045194</td>\n",
       "      <td>134905349</td>\n",
       "    </tr>\n",
       "    <tr>\n",
       "      <th>11</th>\n",
       "      <td>11</td>\n",
       "      <td>135858149</td>\n",
       "      <td>142337185</td>\n",
       "    </tr>\n",
       "  </tbody>\n",
       "</table>\n",
       "</div>"
      ],
      "text/plain": [
       "    class  startTime_usec  endTime_usec\n",
       "0       1        48486443      53269496\n",
       "1       2        54965479      61654131\n",
       "2       3        62416370      67828271\n",
       "3       4        70801005      78747352\n",
       "4       5        79566760      86941427\n",
       "5       6        89799825      98108236\n",
       "6       7        98279740     104168041\n",
       "7       8       104911224     112419283\n",
       "8       8       112667011     118745871\n",
       "9       9       119774895     126635051\n",
       "10     10       128045194     134905349\n",
       "11     11       135858149     142337185"
      ]
     },
     "execution_count": 15,
     "metadata": {},
     "output_type": "execute_result"
    }
   ],
   "source": [
    "# loading labels\n",
    "\n",
    "labels = pd.read_csv(labels_path)\n",
    "labels"
   ]
  },
  {
   "cell_type": "code",
   "execution_count": 16,
   "id": "8057338d",
   "metadata": {},
   "outputs": [],
   "source": [
    "# loading aedat file (events)\n",
    "\n",
    "shape, events = load_events_from_file(events_path, parser = parse_dvs_ibm)"
   ]
  },
  {
   "cell_type": "code",
   "execution_count": 17,
   "id": "99bdf7a8",
   "metadata": {},
   "outputs": [],
   "source": [
    "df_events = pd.DataFrame(data=events, columns={'x', 'y', 't', 'p'})\n",
    "df_events = df_events[['x' ,'y', 't', 'p']]"
   ]
  },
  {
   "cell_type": "code",
   "execution_count": 18,
   "id": "8cc59ea4",
   "metadata": {},
   "outputs": [],
   "source": [
    "del events"
   ]
  },
  {
   "cell_type": "code",
   "execution_count": 19,
   "id": "f560c850",
   "metadata": {},
   "outputs": [
    {
     "data": {
      "text/html": [
       "<div>\n",
       "<style scoped>\n",
       "    .dataframe tbody tr th:only-of-type {\n",
       "        vertical-align: middle;\n",
       "    }\n",
       "\n",
       "    .dataframe tbody tr th {\n",
       "        vertical-align: top;\n",
       "    }\n",
       "\n",
       "    .dataframe thead th {\n",
       "        text-align: right;\n",
       "    }\n",
       "</style>\n",
       "<table border=\"1\" class=\"dataframe\">\n",
       "  <thead>\n",
       "    <tr style=\"text-align: right;\">\n",
       "      <th></th>\n",
       "      <th>x</th>\n",
       "      <th>y</th>\n",
       "      <th>t</th>\n",
       "      <th>p</th>\n",
       "    </tr>\n",
       "  </thead>\n",
       "  <tbody>\n",
       "    <tr>\n",
       "      <th>0</th>\n",
       "      <td>56</td>\n",
       "      <td>77</td>\n",
       "      <td>48486443</td>\n",
       "      <td>False</td>\n",
       "    </tr>\n",
       "    <tr>\n",
       "      <th>1</th>\n",
       "      <td>49</td>\n",
       "      <td>65</td>\n",
       "      <td>48486449</td>\n",
       "      <td>True</td>\n",
       "    </tr>\n",
       "    <tr>\n",
       "      <th>2</th>\n",
       "      <td>51</td>\n",
       "      <td>86</td>\n",
       "      <td>48486467</td>\n",
       "      <td>False</td>\n",
       "    </tr>\n",
       "    <tr>\n",
       "      <th>3</th>\n",
       "      <td>38</td>\n",
       "      <td>101</td>\n",
       "      <td>48486468</td>\n",
       "      <td>False</td>\n",
       "    </tr>\n",
       "    <tr>\n",
       "      <th>4</th>\n",
       "      <td>89</td>\n",
       "      <td>71</td>\n",
       "      <td>48486472</td>\n",
       "      <td>False</td>\n",
       "    </tr>\n",
       "    <tr>\n",
       "      <th>...</th>\n",
       "      <td>...</td>\n",
       "      <td>...</td>\n",
       "      <td>...</td>\n",
       "      <td>...</td>\n",
       "    </tr>\n",
       "    <tr>\n",
       "      <th>7178407</th>\n",
       "      <td>24</td>\n",
       "      <td>84</td>\n",
       "      <td>143766355</td>\n",
       "      <td>True</td>\n",
       "    </tr>\n",
       "    <tr>\n",
       "      <th>7178408</th>\n",
       "      <td>31</td>\n",
       "      <td>38</td>\n",
       "      <td>143766363</td>\n",
       "      <td>True</td>\n",
       "    </tr>\n",
       "    <tr>\n",
       "      <th>7178409</th>\n",
       "      <td>59</td>\n",
       "      <td>98</td>\n",
       "      <td>143766368</td>\n",
       "      <td>True</td>\n",
       "    </tr>\n",
       "    <tr>\n",
       "      <th>7178410</th>\n",
       "      <td>60</td>\n",
       "      <td>43</td>\n",
       "      <td>143766373</td>\n",
       "      <td>False</td>\n",
       "    </tr>\n",
       "    <tr>\n",
       "      <th>7178411</th>\n",
       "      <td>31</td>\n",
       "      <td>98</td>\n",
       "      <td>143766384</td>\n",
       "      <td>False</td>\n",
       "    </tr>\n",
       "  </tbody>\n",
       "</table>\n",
       "<p>7178412 rows × 4 columns</p>\n",
       "</div>"
      ],
      "text/plain": [
       "          x    y          t      p\n",
       "0        56   77   48486443  False\n",
       "1        49   65   48486449   True\n",
       "2        51   86   48486467  False\n",
       "3        38  101   48486468  False\n",
       "4        89   71   48486472  False\n",
       "...      ..  ...        ...    ...\n",
       "7178407  24   84  143766355   True\n",
       "7178408  31   38  143766363   True\n",
       "7178409  59   98  143766368   True\n",
       "7178410  60   43  143766373  False\n",
       "7178411  31   98  143766384  False\n",
       "\n",
       "[7178412 rows x 4 columns]"
      ]
     },
     "execution_count": 19,
     "metadata": {},
     "output_type": "execute_result"
    }
   ],
   "source": [
    "df_events"
   ]
  },
  {
   "cell_type": "code",
   "execution_count": 20,
   "id": "49510ea9",
   "metadata": {},
   "outputs": [
    {
     "data": {
      "text/plain": [
       "numpy.uint64"
      ]
     },
     "execution_count": 20,
     "metadata": {},
     "output_type": "execute_result"
    }
   ],
   "source": [
    "type(df_events.iloc[0]['t'])"
   ]
  },
  {
   "cell_type": "markdown",
   "id": "3714aa4d",
   "metadata": {},
   "source": [
    "# Visualisation"
   ]
  },
  {
   "cell_type": "code",
   "execution_count": 21,
   "id": "860849d0",
   "metadata": {},
   "outputs": [],
   "source": [
    "# events_slice = df_events.iloc[0:100000]"
   ]
  },
  {
   "cell_type": "code",
   "execution_count": 22,
   "id": "7de6c34d",
   "metadata": {},
   "outputs": [],
   "source": [
    "# events_slice_np = events_slice.to_numpy()\n",
    "# events_slice_np"
   ]
  },
  {
   "cell_type": "code",
   "execution_count": 23,
   "id": "ded8b2c8",
   "metadata": {},
   "outputs": [],
   "source": [
    "# xyz = events_slice_np[:, :3]\n",
    "# polarity = events_slice_np[:, 3]"
   ]
  },
  {
   "cell_type": "code",
   "execution_count": 24,
   "id": "3a62bb71",
   "metadata": {},
   "outputs": [],
   "source": [
    "# plt.figure(figsize=(4, 4), dpi=150)\n",
    "# ax = plt.axes(projection='3d')\n",
    "# ax.azim = 20\n",
    "# ax.elev = 20\n",
    "# ax.scatter(xyz[:,0], xyz[:,1], xyz[:,2], c = polarity, s=0.01)"
   ]
  },
  {
   "cell_type": "markdown",
   "id": "d074f757",
   "metadata": {},
   "source": [
    "# Analysing frequency of events"
   ]
  },
  {
   "cell_type": "code",
   "execution_count": 25,
   "id": "251f7e12",
   "metadata": {},
   "outputs": [],
   "source": [
    "import datetime"
   ]
  },
  {
   "cell_type": "code",
   "execution_count": 26,
   "id": "20915151",
   "metadata": {},
   "outputs": [],
   "source": [
    "# datetime.datetime.fromtimestamp(53036041/1000000)"
   ]
  },
  {
   "cell_type": "code",
   "execution_count": 27,
   "id": "c02d1fc9",
   "metadata": {},
   "outputs": [],
   "source": [
    "events_freq = df_events.copy()\n",
    "events_freq['t'] = events_freq['t'].apply(lambda x: datetime.datetime.fromtimestamp(x/1000000))   # converting timestamps to datetime format                                                                    #convert timestamps to ts\n",
    "events_freq['freq'] = 1                         # frequency of events\n",
    "events_freq = events_freq.set_index('t')       # set ts as index\n",
    "events_freq_res = events_freq['freq'].resample('ms').sum().to_frame()       # resample to find events per ms"
   ]
  },
  {
   "cell_type": "code",
   "execution_count": 29,
   "id": "2ebabfa5",
   "metadata": {},
   "outputs": [
    {
     "data": {
      "text/html": [
       "<div>\n",
       "<style scoped>\n",
       "    .dataframe tbody tr th:only-of-type {\n",
       "        vertical-align: middle;\n",
       "    }\n",
       "\n",
       "    .dataframe tbody tr th {\n",
       "        vertical-align: top;\n",
       "    }\n",
       "\n",
       "    .dataframe thead th {\n",
       "        text-align: right;\n",
       "    }\n",
       "</style>\n",
       "<table border=\"1\" class=\"dataframe\">\n",
       "  <thead>\n",
       "    <tr style=\"text-align: right;\">\n",
       "      <th></th>\n",
       "      <th>freq</th>\n",
       "    </tr>\n",
       "    <tr>\n",
       "      <th>t</th>\n",
       "      <th></th>\n",
       "    </tr>\n",
       "  </thead>\n",
       "  <tbody>\n",
       "    <tr>\n",
       "      <th>1970-01-01 01:00:48.486</th>\n",
       "      <td>43</td>\n",
       "    </tr>\n",
       "    <tr>\n",
       "      <th>1970-01-01 01:00:48.487</th>\n",
       "      <td>82</td>\n",
       "    </tr>\n",
       "    <tr>\n",
       "      <th>1970-01-01 01:00:48.488</th>\n",
       "      <td>79</td>\n",
       "    </tr>\n",
       "    <tr>\n",
       "      <th>1970-01-01 01:00:48.489</th>\n",
       "      <td>102</td>\n",
       "    </tr>\n",
       "    <tr>\n",
       "      <th>1970-01-01 01:00:48.490</th>\n",
       "      <td>73</td>\n",
       "    </tr>\n",
       "    <tr>\n",
       "      <th>...</th>\n",
       "      <td>...</td>\n",
       "    </tr>\n",
       "    <tr>\n",
       "      <th>1970-01-01 01:02:23.762</th>\n",
       "      <td>124</td>\n",
       "    </tr>\n",
       "    <tr>\n",
       "      <th>1970-01-01 01:02:23.763</th>\n",
       "      <td>123</td>\n",
       "    </tr>\n",
       "    <tr>\n",
       "      <th>1970-01-01 01:02:23.764</th>\n",
       "      <td>131</td>\n",
       "    </tr>\n",
       "    <tr>\n",
       "      <th>1970-01-01 01:02:23.765</th>\n",
       "      <td>117</td>\n",
       "    </tr>\n",
       "    <tr>\n",
       "      <th>1970-01-01 01:02:23.766</th>\n",
       "      <td>33</td>\n",
       "    </tr>\n",
       "  </tbody>\n",
       "</table>\n",
       "<p>95281 rows × 1 columns</p>\n",
       "</div>"
      ],
      "text/plain": [
       "                         freq\n",
       "t                            \n",
       "1970-01-01 01:00:48.486    43\n",
       "1970-01-01 01:00:48.487    82\n",
       "1970-01-01 01:00:48.488    79\n",
       "1970-01-01 01:00:48.489   102\n",
       "1970-01-01 01:00:48.490    73\n",
       "...                       ...\n",
       "1970-01-01 01:02:23.762   124\n",
       "1970-01-01 01:02:23.763   123\n",
       "1970-01-01 01:02:23.764   131\n",
       "1970-01-01 01:02:23.765   117\n",
       "1970-01-01 01:02:23.766    33\n",
       "\n",
       "[95281 rows x 1 columns]"
      ]
     },
     "execution_count": 29,
     "metadata": {},
     "output_type": "execute_result"
    }
   ],
   "source": [
    "events_freq_res"
   ]
  },
  {
   "cell_type": "code",
   "execution_count": 32,
   "id": "23de0f36",
   "metadata": {},
   "outputs": [
    {
     "data": {
      "image/png": "[encoded data removed]",
      "text/plain": [
       "<Figure size 432x288 with 1 Axes>"
      ]
     },
     "metadata": {
      "needs_background": "light"
     },
     "output_type": "display_data"
    }
   ],
   "source": [
    "ax0 = events_freq_res.iloc[0:20000].plot(xlabel = 'timestamp', ylabel = 'events per millisecond')"
   ]
  },
  {
   "cell_type": "code",
   "execution_count": 220,
   "id": "991ee077",
   "metadata": {},
   "outputs": [
    {
     "data": {
      "text/plain": [
       "Text(0.5, 1.0, 'histogram')"
      ]
     },
     "execution_count": 220,
     "metadata": {},
     "output_type": "execute_result"
    },
    {
     "data": {
      "image/png": "[encoded data removed]",
      "text/plain": [
       "<Figure size 540x360 with 1 Axes>"
      ]
     },
     "metadata": {
      "needs_background": "light"
     },
     "output_type": "display_data"
    }
   ],
   "source": [
    "plt.figure(dpi=90)\n",
    "ax1 = events_freq_res['freq'].plot.hist(bins=1000)\n",
    "ax1.set_xlabel('events per millisecond')\n",
    "ax1.set_title('histogram')"
   ]
  },
  {
   "cell_type": "code",
   "execution_count": 213,
   "id": "a7da535a",
   "metadata": {},
   "outputs": [
    {
     "data": {
      "text/plain": [
       "75.33938560678415"
      ]
     },
     "execution_count": 213,
     "metadata": {},
     "output_type": "execute_result"
    },
    {
     "data": {
      "image/png": "[encoded data removed]",
      "text/plain": [
       "<Figure size 540x360 with 1 Axes>"
      ]
     },
     "metadata": {
      "needs_background": "light"
     },
     "output_type": "display_data"
    }
   ],
   "source": [
    "plt.figure(dpi=90)\n",
    "ax2 = events_freq_res['freq'].plot.kde()\n",
    "ax2.set_xlabel('events per millisecond')\n",
    "ax2.set_title('kernel density estimation')\n",
    "np.mean(events_freq_res['freq'])"
   ]
  },
  {
   "cell_type": "code",
   "execution_count": 214,
   "id": "9c469632",
   "metadata": {},
   "outputs": [
    {
     "name": "stdout",
     "output_type": "stream",
     "text": [
      "Mean:  75.33938560678415\n",
      "Median:  75.0\n",
      "Std deviation:  34.509237346229796\n"
     ]
    }
   ],
   "source": [
    "print('Mean: ', np.mean(events_freq_res['freq']))\n",
    "print('Median: ', np.median(events_freq_res['freq']))\n",
    "print('Std deviation: ', np.std(events_freq_res['freq']))"
   ]
  },
  {
   "cell_type": "code",
   "execution_count": null,
   "id": "217f92a5",
   "metadata": {},
   "outputs": [],
   "source": []
  },
  {
   "cell_type": "code",
   "execution_count": null,
   "id": "ad7fac1e",
   "metadata": {},
   "outputs": [],
   "source": []
  },
  {
   "cell_type": "code",
   "execution_count": null,
   "id": "6854517a",
   "metadata": {},
   "outputs": [],
   "source": [
    "lab higher\n",
    "\n",
    "histogram seems discretised\n"
   ]
  }
 ],
 "metadata": {
  "kernelspec": {
   "display_name": "Python 3",
   "language": "python",
   "name": "python3"
  },
  "language_info": {
   "codemirror_mode": {
    "name": "ipython",
    "version": 3
   },
   "file_extension": ".py",
   "mimetype": "text/x-python",
   "name": "python",
   "nbconvert_exporter": "python",
   "pygments_lexer": "ipython3",
   "version": "3.7.0"
  }
 },
 "nbformat": 4,
 "nbformat_minor": 5
}
