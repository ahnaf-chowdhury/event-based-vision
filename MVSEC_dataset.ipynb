{
 "cells": [
  {
   "cell_type": "markdown",
   "metadata": {
    "id": "Mk4FnzxnFHtP"
   },
   "source": [
    "Exploring the MVSEC dataset\n",
    "---\n",
    "\n"
   ]
  },
  {
   "cell_type": "markdown",
   "metadata": {},
   "source": [
    "(Any code before the \"Original Work\" section was obtained from the repository: https://github.com/SensorsINI/MVSEC-NIGHTL21)"
   ]
  },
  {
   "cell_type": "markdown",
   "metadata": {
    "id": "flygHVkFFRUP"
   },
   "source": [
    "## Clone the resources"
   ]
  },
  {
   "cell_type": "code",
   "execution_count": 18,
   "metadata": {
    "id": "_WwuFD6MFD1A"
   },
   "outputs": [],
   "source": [
    "# # Clone and install\n",
    "# !git clone https://github.com/SensorsINI/MVSEC-NIGHTL21\n",
    "# %cd ./MVSEC-NIGHTL21"
   ]
  },
  {
   "cell_type": "markdown",
   "metadata": {
    "id": "xtMlRIZdFyXt"
   },
   "source": [
    "## Get the MVSEC data\n",
    "\n",
    "The dataset is about 9 GB, will take a while."
   ]
  },
  {
   "cell_type": "code",
   "execution_count": 19,
   "metadata": {
    "id": "rJaaWdgLF1SU"
   },
   "outputs": [],
   "source": [
    "# !wget --load-cookies /tmp/cookies.txt \"https://docs.google.com/uc?export=download&confirm=$(wget --quiet --save-cookies /tmp/cookies.txt --keep-session-cookies --no-check-certificate 'https://docs.google.com/uc?export=download&id=1z8b00gWoZnGuzAOSD49KFaX03q1UuKxc' -O- | sed -rn 's/.*confirm=([0-9A-Za-z_]+).*/\\1\\n/p')&id=1z8b00gWoZnGuzAOSD49KFaX03q1UuKxc\" -O /content/outdoor_night1_data.hdf5 && rm -rf /tmp/cookies.txt"
   ]
  },
  {
   "cell_type": "markdown",
   "metadata": {
    "id": "aaNUL-h0HCVh"
   },
   "source": [
    " ## Run visualization!"
   ]
  },
  {
   "cell_type": "code",
   "execution_count": 20,
   "metadata": {
    "id": "wVM4CrtAHGha"
   },
   "outputs": [],
   "source": [
    "# !python visualize_mvsec_nightl21.py --mvsec_data /content/outdoor_night1_data.hdf5 --gt_root ./mvsec_nightl21_labels/ --colab"
   ]
  },
  {
   "cell_type": "markdown",
   "metadata": {
    "id": "U1y9ZeSvNGIh"
   },
   "source": [
    "## Watch the Video!"
   ]
  },
  {
   "cell_type": "code",
   "execution_count": 21,
   "metadata": {
    "id": "tTXe39JoNL4x"
   },
   "outputs": [],
   "source": [
    "# # necessary to convert for another time so that colab can display it.\n",
    "# !ffmpeg -y -i ./output.mp4 /tmp/output.mp4 -loglevel quiet\n",
    "# from IPython.display import HTML\n",
    "# from base64 import b64encode\n",
    "\n",
    "# mp4 = open(\"/tmp/output.mp4\",'rb').read()\n",
    "# data_url = \"data:video/mp4;base64,\" + b64encode(mp4).decode()\n",
    "# HTML(\"<video controls src={} width=50%/>\".format(data_url))"
   ]
  },
  {
   "cell_type": "markdown",
   "metadata": {
    "id": "cRnzxB6uKQ0i"
   },
   "source": [
    "#  Original Work"
   ]
  },
  {
   "cell_type": "code",
   "execution_count": 1,
   "metadata": {
    "id": "gnHj_lP_KQZ-"
   },
   "outputs": [
    {
     "name": "stderr",
     "output_type": "stream",
     "text": [
      "Failed to load Python extension for LZ4 support. LZ4 compression will not be available.\n"
     ]
    }
   ],
   "source": [
    "import h5py\n",
    "import numpy as np\n",
    "import pandas as pd\n",
    "import matplotlib.pyplot as plt\n",
    "import rosbag_pandas"
   ]
  },
  {
   "cell_type": "code",
   "execution_count": 23,
   "metadata": {},
   "outputs": [],
   "source": [
    "# filename = \"datasets/outdoor_day1_data.hdf5\"\n",
    "filename = \"datasets/indoor_flying2_data.hdf5\"\n",
    "\n",
    "# df_bag = rosbag_pandas.bag_to_dataframe(filename)"
   ]
  },
  {
   "cell_type": "code",
   "execution_count": 24,
   "metadata": {},
   "outputs": [],
   "source": [
    "# bag = rosbag.Bag(filename)\n",
    "# messages = []\n",
    "# for topic, msg, t in bag.read_messages(topics=['/davis/left/events']):\n",
    "#     messages.append(msg)\n",
    "# bag.close()"
   ]
  },
  {
   "cell_type": "code",
   "execution_count": 25,
   "metadata": {
    "id": "kZXfwprxN3Lf"
   },
   "outputs": [
    {
     "name": "stdout",
     "output_type": "stream",
     "text": [
      "Keys: <KeysViewHDF5 ['davis', 'velodyne']>\n"
     ]
    }
   ],
   "source": [
    "with h5py.File(filename, \"r\") as f:\n",
    "    # List all groups\n",
    "    print(\"Keys: %s\" % f.keys())\n",
    "\n",
    "    events_np = np.array(f['davis']['left']['events'])             # events from the left camera\n",
    "#     images_left = np.array(f['davis']['left']['image_raw'])        # images (frames) from the left camera\n",
    "    n_frames = f['davis']['left']['image_raw'].shape[0]             # number of frames\n",
    "    frame_dim = f['davis']['left']['image_raw'].shape[1:]          # frame dimensions\n",
    "    \n",
    "#     print(type(images_left))\n",
    "    "
   ]
  },
  {
   "cell_type": "code",
   "execution_count": 26,
   "metadata": {},
   "outputs": [],
   "source": [
    "import cv2\n",
    "import time"
   ]
  },
  {
   "cell_type": "code",
   "execution_count": 27,
   "metadata": {},
   "outputs": [],
   "source": [
    "# for frame in images_left:\n",
    "#     plt.imshow(frame)\n",
    "\n",
    "# plt.imshow(images_left[1])\n",
    "\n",
    "# for i in range(len(images_left)):\n",
    "#     plt.imshow(images_left[i])"
   ]
  },
  {
   "cell_type": "code",
   "execution_count": 28,
   "metadata": {},
   "outputs": [
    {
     "name": "stdout",
     "output_type": "stream",
     "text": [
      "2665\n",
      "(260, 346)\n",
      "25043556\n"
     ]
    }
   ],
   "source": [
    "print(n_frames)\n",
    "print(frame_dim)\n",
    "print(len(events_np))"
   ]
  },
  {
   "cell_type": "code",
   "execution_count": 29,
   "metadata": {
    "id": "ZWsNFfGZR5mR"
   },
   "outputs": [],
   "source": [
    "df_events = pd.DataFrame(events_np).rename(columns = {0:'x', 1:'y', 2:'ts', 3:'p'})"
   ]
  },
  {
   "cell_type": "code",
   "execution_count": 30,
   "metadata": {},
   "outputs": [
    {
     "data": {
      "text/html": [
       "<div>\n",
       "<style scoped>\n",
       "    .dataframe tbody tr th:only-of-type {\n",
       "        vertical-align: middle;\n",
       "    }\n",
       "\n",
       "    .dataframe tbody tr th {\n",
       "        vertical-align: top;\n",
       "    }\n",
       "\n",
       "    .dataframe thead th {\n",
       "        text-align: right;\n",
       "    }\n",
       "</style>\n",
       "<table border=\"1\" class=\"dataframe\">\n",
       "  <thead>\n",
       "    <tr style=\"text-align: right;\">\n",
       "      <th></th>\n",
       "      <th>x</th>\n",
       "      <th>y</th>\n",
       "      <th>ts</th>\n",
       "      <th>p</th>\n",
       "    </tr>\n",
       "  </thead>\n",
       "  <tbody>\n",
       "    <tr>\n",
       "      <th>0</th>\n",
       "      <td>255.0</td>\n",
       "      <td>118.0</td>\n",
       "      <td>1.504645e+09</td>\n",
       "      <td>1.0</td>\n",
       "    </tr>\n",
       "    <tr>\n",
       "      <th>1</th>\n",
       "      <td>331.0</td>\n",
       "      <td>251.0</td>\n",
       "      <td>1.504645e+09</td>\n",
       "      <td>-1.0</td>\n",
       "    </tr>\n",
       "    <tr>\n",
       "      <th>2</th>\n",
       "      <td>48.0</td>\n",
       "      <td>111.0</td>\n",
       "      <td>1.504645e+09</td>\n",
       "      <td>1.0</td>\n",
       "    </tr>\n",
       "    <tr>\n",
       "      <th>3</th>\n",
       "      <td>243.0</td>\n",
       "      <td>171.0</td>\n",
       "      <td>1.504645e+09</td>\n",
       "      <td>1.0</td>\n",
       "    </tr>\n",
       "    <tr>\n",
       "      <th>4</th>\n",
       "      <td>305.0</td>\n",
       "      <td>46.0</td>\n",
       "      <td>1.504645e+09</td>\n",
       "      <td>-1.0</td>\n",
       "    </tr>\n",
       "    <tr>\n",
       "      <th>...</th>\n",
       "      <td>...</td>\n",
       "      <td>...</td>\n",
       "      <td>...</td>\n",
       "      <td>...</td>\n",
       "    </tr>\n",
       "    <tr>\n",
       "      <th>25043551</th>\n",
       "      <td>254.0</td>\n",
       "      <td>30.0</td>\n",
       "      <td>1.504645e+09</td>\n",
       "      <td>1.0</td>\n",
       "    </tr>\n",
       "    <tr>\n",
       "      <th>25043552</th>\n",
       "      <td>339.0</td>\n",
       "      <td>241.0</td>\n",
       "      <td>1.504645e+09</td>\n",
       "      <td>1.0</td>\n",
       "    </tr>\n",
       "    <tr>\n",
       "      <th>25043553</th>\n",
       "      <td>195.0</td>\n",
       "      <td>113.0</td>\n",
       "      <td>1.504645e+09</td>\n",
       "      <td>1.0</td>\n",
       "    </tr>\n",
       "    <tr>\n",
       "      <th>25043554</th>\n",
       "      <td>123.0</td>\n",
       "      <td>150.0</td>\n",
       "      <td>1.504645e+09</td>\n",
       "      <td>-1.0</td>\n",
       "    </tr>\n",
       "    <tr>\n",
       "      <th>25043555</th>\n",
       "      <td>157.0</td>\n",
       "      <td>174.0</td>\n",
       "      <td>1.504645e+09</td>\n",
       "      <td>1.0</td>\n",
       "    </tr>\n",
       "  </tbody>\n",
       "</table>\n",
       "<p>25043556 rows × 4 columns</p>\n",
       "</div>"
      ],
      "text/plain": [
       "              x      y            ts    p\n",
       "0         255.0  118.0  1.504645e+09  1.0\n",
       "1         331.0  251.0  1.504645e+09 -1.0\n",
       "2          48.0  111.0  1.504645e+09  1.0\n",
       "3         243.0  171.0  1.504645e+09  1.0\n",
       "4         305.0   46.0  1.504645e+09 -1.0\n",
       "...         ...    ...           ...  ...\n",
       "25043551  254.0   30.0  1.504645e+09  1.0\n",
       "25043552  339.0  241.0  1.504645e+09  1.0\n",
       "25043553  195.0  113.0  1.504645e+09  1.0\n",
       "25043554  123.0  150.0  1.504645e+09 -1.0\n",
       "25043555  157.0  174.0  1.504645e+09  1.0\n",
       "\n",
       "[25043556 rows x 4 columns]"
      ]
     },
     "execution_count": 30,
     "metadata": {},
     "output_type": "execute_result"
    }
   ],
   "source": [
    "df_events"
   ]
  },
  {
   "cell_type": "code",
   "execution_count": 36,
   "metadata": {},
   "outputs": [
    {
     "data": {
      "text/plain": [
       "numpy.float64"
      ]
     },
     "execution_count": 36,
     "metadata": {},
     "output_type": "execute_result"
    }
   ],
   "source": [
    "type(df_events.iloc[0]['p'])"
   ]
  },
  {
   "cell_type": "markdown",
   "metadata": {},
   "source": [
    "# Visualisation"
   ]
  },
  {
   "cell_type": "code",
   "execution_count": 162,
   "metadata": {},
   "outputs": [
    {
     "data": {
      "text/html": [
       "<div>\n",
       "<style scoped>\n",
       "    .dataframe tbody tr th:only-of-type {\n",
       "        vertical-align: middle;\n",
       "    }\n",
       "\n",
       "    .dataframe tbody tr th {\n",
       "        vertical-align: top;\n",
       "    }\n",
       "\n",
       "    .dataframe thead th {\n",
       "        text-align: right;\n",
       "    }\n",
       "</style>\n",
       "<table border=\"1\" class=\"dataframe\">\n",
       "  <thead>\n",
       "    <tr style=\"text-align: right;\">\n",
       "      <th></th>\n",
       "      <th>x</th>\n",
       "      <th>y</th>\n",
       "      <th>ts</th>\n",
       "      <th>p</th>\n",
       "    </tr>\n",
       "  </thead>\n",
       "  <tbody>\n",
       "    <tr>\n",
       "      <th>0</th>\n",
       "      <td>255.0</td>\n",
       "      <td>118.0</td>\n",
       "      <td>1.504645e+09</td>\n",
       "      <td>1.0</td>\n",
       "    </tr>\n",
       "    <tr>\n",
       "      <th>1</th>\n",
       "      <td>331.0</td>\n",
       "      <td>251.0</td>\n",
       "      <td>1.504645e+09</td>\n",
       "      <td>-1.0</td>\n",
       "    </tr>\n",
       "    <tr>\n",
       "      <th>2</th>\n",
       "      <td>48.0</td>\n",
       "      <td>111.0</td>\n",
       "      <td>1.504645e+09</td>\n",
       "      <td>1.0</td>\n",
       "    </tr>\n",
       "    <tr>\n",
       "      <th>3</th>\n",
       "      <td>243.0</td>\n",
       "      <td>171.0</td>\n",
       "      <td>1.504645e+09</td>\n",
       "      <td>1.0</td>\n",
       "    </tr>\n",
       "    <tr>\n",
       "      <th>4</th>\n",
       "      <td>305.0</td>\n",
       "      <td>46.0</td>\n",
       "      <td>1.504645e+09</td>\n",
       "      <td>-1.0</td>\n",
       "    </tr>\n",
       "    <tr>\n",
       "      <th>...</th>\n",
       "      <td>...</td>\n",
       "      <td>...</td>\n",
       "      <td>...</td>\n",
       "      <td>...</td>\n",
       "    </tr>\n",
       "    <tr>\n",
       "      <th>25043551</th>\n",
       "      <td>254.0</td>\n",
       "      <td>30.0</td>\n",
       "      <td>1.504645e+09</td>\n",
       "      <td>1.0</td>\n",
       "    </tr>\n",
       "    <tr>\n",
       "      <th>25043552</th>\n",
       "      <td>339.0</td>\n",
       "      <td>241.0</td>\n",
       "      <td>1.504645e+09</td>\n",
       "      <td>1.0</td>\n",
       "    </tr>\n",
       "    <tr>\n",
       "      <th>25043553</th>\n",
       "      <td>195.0</td>\n",
       "      <td>113.0</td>\n",
       "      <td>1.504645e+09</td>\n",
       "      <td>1.0</td>\n",
       "    </tr>\n",
       "    <tr>\n",
       "      <th>25043554</th>\n",
       "      <td>123.0</td>\n",
       "      <td>150.0</td>\n",
       "      <td>1.504645e+09</td>\n",
       "      <td>-1.0</td>\n",
       "    </tr>\n",
       "    <tr>\n",
       "      <th>25043555</th>\n",
       "      <td>157.0</td>\n",
       "      <td>174.0</td>\n",
       "      <td>1.504645e+09</td>\n",
       "      <td>1.0</td>\n",
       "    </tr>\n",
       "  </tbody>\n",
       "</table>\n",
       "<p>25043556 rows × 4 columns</p>\n",
       "</div>"
      ],
      "text/plain": [
       "              x      y            ts    p\n",
       "0         255.0  118.0  1.504645e+09  1.0\n",
       "1         331.0  251.0  1.504645e+09 -1.0\n",
       "2          48.0  111.0  1.504645e+09  1.0\n",
       "3         243.0  171.0  1.504645e+09  1.0\n",
       "4         305.0   46.0  1.504645e+09 -1.0\n",
       "...         ...    ...           ...  ...\n",
       "25043551  254.0   30.0  1.504645e+09  1.0\n",
       "25043552  339.0  241.0  1.504645e+09  1.0\n",
       "25043553  195.0  113.0  1.504645e+09  1.0\n",
       "25043554  123.0  150.0  1.504645e+09 -1.0\n",
       "25043555  157.0  174.0  1.504645e+09  1.0\n",
       "\n",
       "[25043556 rows x 4 columns]"
      ]
     },
     "execution_count": 162,
     "metadata": {},
     "output_type": "execute_result"
    }
   ],
   "source": [
    "events_slice = df_events.iloc[0:]\n",
    "events_slice"
   ]
  },
  {
   "cell_type": "code",
   "execution_count": 163,
   "metadata": {},
   "outputs": [
    {
     "data": {
      "text/plain": [
       "array([[ 2.55000000e+02,  1.18000000e+02,  1.50464527e+09,\n",
       "         1.00000000e+00],\n",
       "       [ 3.31000000e+02,  2.51000000e+02,  1.50464527e+09,\n",
       "        -1.00000000e+00],\n",
       "       [ 4.80000000e+01,  1.11000000e+02,  1.50464527e+09,\n",
       "         1.00000000e+00],\n",
       "       ...,\n",
       "       [ 1.95000000e+02,  1.13000000e+02,  1.50464535e+09,\n",
       "         1.00000000e+00],\n",
       "       [ 1.23000000e+02,  1.50000000e+02,  1.50464535e+09,\n",
       "        -1.00000000e+00],\n",
       "       [ 1.57000000e+02,  1.74000000e+02,  1.50464535e+09,\n",
       "         1.00000000e+00]])"
      ]
     },
     "execution_count": 163,
     "metadata": {},
     "output_type": "execute_result"
    }
   ],
   "source": [
    "events_slice_np = events_slice.to_numpy()\n",
    "events_slice_np"
   ]
  },
  {
   "cell_type": "code",
   "execution_count": 164,
   "metadata": {},
   "outputs": [],
   "source": [
    "xyz = events_slice_np[:, :3]\n",
    "polarity = events_slice_np[:, 3]"
   ]
  },
  {
   "cell_type": "code",
   "execution_count": 165,
   "metadata": {},
   "outputs": [
    {
     "data": {
      "text/plain": [
       "array([[2.55000000e+02, 1.18000000e+02, 1.50464527e+09],\n",
       "       [3.31000000e+02, 2.51000000e+02, 1.50464527e+09],\n",
       "       [4.80000000e+01, 1.11000000e+02, 1.50464527e+09],\n",
       "       ...,\n",
       "       [1.95000000e+02, 1.13000000e+02, 1.50464535e+09],\n",
       "       [1.23000000e+02, 1.50000000e+02, 1.50464535e+09],\n",
       "       [1.57000000e+02, 1.74000000e+02, 1.50464535e+09]])"
      ]
     },
     "execution_count": 165,
     "metadata": {},
     "output_type": "execute_result"
    }
   ],
   "source": [
    "xyz"
   ]
  },
  {
   "cell_type": "code",
   "execution_count": 166,
   "metadata": {},
   "outputs": [],
   "source": [
    "# plt.figure(figsize=(4, 4), dpi=150)\n",
    "# ax = plt.axes(projection='3d')\n",
    "# ax.azim = 20\n",
    "# ax.elev = 20\n",
    "# ax.scatter(xyz[:,0], xyz[:,1], xyz[:,2], c = polarity, s=0.01)"
   ]
  },
  {
   "cell_type": "markdown",
   "metadata": {},
   "source": [
    "# Analysing frequency of events"
   ]
  },
  {
   "cell_type": "code",
   "execution_count": 167,
   "metadata": {},
   "outputs": [],
   "source": [
    "import datetime"
   ]
  },
  {
   "cell_type": "code",
   "execution_count": 168,
   "metadata": {},
   "outputs": [],
   "source": [
    "events_freq = df_events.copy()\n",
    "events_freq['ts'] = events_freq['ts'].apply(lambda x: datetime.datetime.fromtimestamp(x))   # converting timestamps to datetime format                                                                    #convert timestamps to ts\n",
    "events_freq['freq'] = 1                         # frequency of events\n",
    "events_freq = events_freq.set_index('ts')       # set ts as index\n",
    "events_freq_res = events_freq['freq'].resample('ms').sum().to_frame()       # resample to find events per ms"
   ]
  },
  {
   "cell_type": "code",
   "execution_count": 169,
   "metadata": {},
   "outputs": [
    {
     "data": {
      "text/html": [
       "<div>\n",
       "<style scoped>\n",
       "    .dataframe tbody tr th:only-of-type {\n",
       "        vertical-align: middle;\n",
       "    }\n",
       "\n",
       "    .dataframe tbody tr th {\n",
       "        vertical-align: top;\n",
       "    }\n",
       "\n",
       "    .dataframe thead th {\n",
       "        text-align: right;\n",
       "    }\n",
       "</style>\n",
       "<table border=\"1\" class=\"dataframe\">\n",
       "  <thead>\n",
       "    <tr style=\"text-align: right;\">\n",
       "      <th></th>\n",
       "      <th>freq</th>\n",
       "    </tr>\n",
       "    <tr>\n",
       "      <th>ts</th>\n",
       "      <th></th>\n",
       "    </tr>\n",
       "  </thead>\n",
       "  <tbody>\n",
       "    <tr>\n",
       "      <th>2017-09-05 22:01:07.716</th>\n",
       "      <td>6</td>\n",
       "    </tr>\n",
       "    <tr>\n",
       "      <th>2017-09-05 22:01:07.717</th>\n",
       "      <td>4</td>\n",
       "    </tr>\n",
       "    <tr>\n",
       "      <th>2017-09-05 22:01:07.718</th>\n",
       "      <td>3</td>\n",
       "    </tr>\n",
       "    <tr>\n",
       "      <th>2017-09-05 22:01:07.719</th>\n",
       "      <td>6</td>\n",
       "    </tr>\n",
       "    <tr>\n",
       "      <th>2017-09-05 22:01:07.720</th>\n",
       "      <td>2</td>\n",
       "    </tr>\n",
       "    <tr>\n",
       "      <th>...</th>\n",
       "      <td>...</td>\n",
       "    </tr>\n",
       "    <tr>\n",
       "      <th>2017-09-05 22:02:32.651</th>\n",
       "      <td>9</td>\n",
       "    </tr>\n",
       "    <tr>\n",
       "      <th>2017-09-05 22:02:32.652</th>\n",
       "      <td>5</td>\n",
       "    </tr>\n",
       "    <tr>\n",
       "      <th>2017-09-05 22:02:32.653</th>\n",
       "      <td>9</td>\n",
       "    </tr>\n",
       "    <tr>\n",
       "      <th>2017-09-05 22:02:32.654</th>\n",
       "      <td>4</td>\n",
       "    </tr>\n",
       "    <tr>\n",
       "      <th>2017-09-05 22:02:32.655</th>\n",
       "      <td>1</td>\n",
       "    </tr>\n",
       "  </tbody>\n",
       "</table>\n",
       "<p>84940 rows × 1 columns</p>\n",
       "</div>"
      ],
      "text/plain": [
       "                         freq\n",
       "ts                           \n",
       "2017-09-05 22:01:07.716     6\n",
       "2017-09-05 22:01:07.717     4\n",
       "2017-09-05 22:01:07.718     3\n",
       "2017-09-05 22:01:07.719     6\n",
       "2017-09-05 22:01:07.720     2\n",
       "...                       ...\n",
       "2017-09-05 22:02:32.651     9\n",
       "2017-09-05 22:02:32.652     5\n",
       "2017-09-05 22:02:32.653     9\n",
       "2017-09-05 22:02:32.654     4\n",
       "2017-09-05 22:02:32.655     1\n",
       "\n",
       "[84940 rows x 1 columns]"
      ]
     },
     "execution_count": 169,
     "metadata": {},
     "output_type": "execute_result"
    }
   ],
   "source": [
    "events_freq_res"
   ]
  },
  {
   "cell_type": "code",
   "execution_count": 170,
   "metadata": {},
   "outputs": [
    {
     "data": {
      "image/png": "[encoded data removed]",
      "text/plain": [
       "<Figure size 432x288 with 1 Axes>"
      ]
     },
     "metadata": {
      "needs_background": "light"
     },
     "output_type": "display_data"
    }
   ],
   "source": [
    "ax0 = events_freq_res.iloc[:].plot(xlabel = 'timestamp', ylabel = 'events per millisecond')"
   ]
  },
  {
   "cell_type": "code",
   "execution_count": 171,
   "metadata": {},
   "outputs": [
    {
     "data": {
      "text/plain": [
       "Text(0.5, 1.0, 'histogram')"
      ]
     },
     "execution_count": 171,
     "metadata": {},
     "output_type": "execute_result"
    },
    {
     "data": {
      "image/png": "[encoded data removed]",
      "text/plain": [
       "<Figure size 540x360 with 1 Axes>"
      ]
     },
     "metadata": {
      "needs_background": "light"
     },
     "output_type": "display_data"
    }
   ],
   "source": [
    "plt.figure(dpi=90)\n",
    "ax1 = events_freq_res['freq'].plot.hist(bins=1000)\n",
    "ax1.set_xlabel('events per millisecond')\n",
    "ax1.set_title('histogram')"
   ]
  },
  {
   "cell_type": "code",
   "execution_count": 172,
   "metadata": {},
   "outputs": [
    {
     "data": {
      "text/plain": [
       "294.8381916647045"
      ]
     },
     "execution_count": 172,
     "metadata": {},
     "output_type": "execute_result"
    },
    {
     "data": {
      "image/png": "[encoded data removed]",
      "text/plain": [
       "<Figure size 540x360 with 1 Axes>"
      ]
     },
     "metadata": {
      "needs_background": "light"
     },
     "output_type": "display_data"
    }
   ],
   "source": [
    "plt.figure(dpi=90)\n",
    "ax2 = events_freq_res['freq'].plot.kde()\n",
    "ax2.set_xlabel('events per millisecond')\n",
    "ax2.set_title('kernel density estimation')\n",
    "np.mean(events_freq_res['freq'])"
   ]
  },
  {
   "cell_type": "code",
   "execution_count": 173,
   "metadata": {},
   "outputs": [
    {
     "name": "stdout",
     "output_type": "stream",
     "text": [
      "Mean:  294.8381916647045\n",
      "Median:  246.0\n",
      "Std deviation:  236.93017036408116\n"
     ]
    }
   ],
   "source": [
    "print('Mean: ', np.mean(events_freq_res['freq']))\n",
    "print('Median: ', np.median(events_freq_res['freq']))\n",
    "print('Std deviation: ', np.std(events_freq_res['freq']))"
   ]
  },
  {
   "cell_type": "code",
   "execution_count": 174,
   "metadata": {},
   "outputs": [],
   "source": [
    "duration_td = max(events_freq_res.reset_index()['ts']) - min(events_freq_res.reset_index()['ts'])"
   ]
  },
  {
   "cell_type": "code",
   "execution_count": 175,
   "metadata": {},
   "outputs": [
    {
     "data": {
      "text/plain": [
       "Timedelta('0 days 00:01:24.939000')"
      ]
     },
     "execution_count": 175,
     "metadata": {},
     "output_type": "execute_result"
    }
   ],
   "source": [
    "# duration\n",
    "duration_td"
   ]
  },
  {
   "cell_type": "code",
   "execution_count": 176,
   "metadata": {},
   "outputs": [
    {
     "data": {
      "text/plain": [
       "25043556"
      ]
     },
     "execution_count": 176,
     "metadata": {},
     "output_type": "execute_result"
    }
   ],
   "source": [
    "# number of events:\n",
    "len(df_events.index)"
   ]
  }
 ],
 "metadata": {
  "colab": {
   "collapsed_sections": [],
   "name": "MSc_night_driving_dataset_MVSEC-NIGHTL21-Demonstration.ipynb",
   "private_outputs": true,
   "provenance": []
  },
  "kernelspec": {
   "display_name": "Python 3",
   "language": "python",
   "name": "python3"
  },
  "language_info": {
   "codemirror_mode": {
    "name": "ipython",
    "version": 3
   },
   "file_extension": ".py",
   "mimetype": "text/x-python",
   "name": "python",
   "nbconvert_exporter": "python",
   "pygments_lexer": "ipython3",
   "version": "3.7.0"
  }
 },
 "nbformat": 4,
 "nbformat_minor": 1
}
