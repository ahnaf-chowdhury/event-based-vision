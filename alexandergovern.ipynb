{
 "cells": [
  {
   "cell_type": "markdown",
   "id": "bd2bd898",
   "metadata": {},
   "source": [
    "Alexander Govern Test to Find out the effect of lighting condition on event rate"
   ]
  },
  {
   "cell_type": "code",
   "execution_count": 4,
   "id": "3366cd47",
   "metadata": {},
   "outputs": [],
   "source": [
    "from scipy.stats import alexandergovern\n",
    "import pandas as pd\n",
    "\n",
    "# scipy version 1.7.1 was used"
   ]
  },
  {
   "cell_type": "code",
   "execution_count": 16,
   "id": "b33fea77",
   "metadata": {},
   "outputs": [],
   "source": [
    "# load data:\n",
    "\n",
    "df = pd.read_csv('results_event_rate.csv')"
   ]
  },
  {
   "cell_type": "code",
   "execution_count": 11,
   "id": "48c7ff2f",
   "metadata": {},
   "outputs": [],
   "source": [
    "# splitting dataframe according to lighting condition\n",
    "\n",
    "df_fluorescent = df[df['lighting'] == 'fluorescent']\n",
    "df_fluorescent_led = df[df['lighting'] == 'fluorescent_led']\n",
    "df_lab = df[df['lighting'] == 'lab']\n",
    "df_led = df[df['lighting'] == 'led']\n",
    "df_natural = df[df['lighting'] == 'natural']"
   ]
  },
  {
   "cell_type": "code",
   "execution_count": 14,
   "id": "8135a274",
   "metadata": {},
   "outputs": [
    {
     "data": {
      "text/plain": [
       "AlexanderGovernResult(statistic=14.184436889722038, pvalue=0.006729088850432616)"
      ]
     },
     "execution_count": 14,
     "metadata": {},
     "output_type": "execute_result"
    }
   ],
   "source": [
    "# AG test comparing different lighting conditions\n",
    "\n",
    "alexandergovern(df_fluorescent['mean_event_rate'],\n",
    "                df_fluorescent_led['mean_event_rate'],\n",
    "                df_lab['mean_event_rate'],\n",
    "                df_led['mean_event_rate'],\n",
    "                df_natural['mean_event_rate'])"
   ]
  },
  {
   "cell_type": "code",
   "execution_count": 45,
   "id": "897d48da",
   "metadata": {},
   "outputs": [
    {
     "name": "stdout",
     "output_type": "stream",
     "text": [
      "28\n",
      "27\n",
      "20\n",
      "27\n",
      "20\n"
     ]
    }
   ],
   "source": [
    "#lengths:\n",
    "print(len(df_fluorescent.index))\n",
    "print(len(df_fluorescent_led.index))\n",
    "print(len(df_lab.index))\n",
    "print(len(df_led.index))\n",
    "print(len(df_natural.index))\n"
   ]
  },
  {
   "cell_type": "code",
   "execution_count": 42,
   "id": "ae90a054",
   "metadata": {},
   "outputs": [
    {
     "data": {
      "text/plain": [
       "AlexanderGovernResult(statistic=3.3614200799199163, pvalue=0.49925996834573805)"
      ]
     },
     "execution_count": 42,
     "metadata": {},
     "output_type": "execute_result"
    }
   ],
   "source": [
    "# AG test comparing values taken from the same lighting condition\n",
    "\n",
    "alexandergovern(df_fluorescent.iloc[:5]['mean_event_rate'],\n",
    "                df_fluorescent.iloc[5:10]['mean_event_rate'],\n",
    "                df_fluorescent.iloc[10:15]['mean_event_rate'],\n",
    "                df_fluorescent.iloc[15:20]['mean_event_rate'],\n",
    "                df_fluorescent.iloc[20:28]['mean_event_rate'],)"
   ]
  },
  {
   "cell_type": "code",
   "execution_count": 47,
   "id": "dd5927c1",
   "metadata": {},
   "outputs": [
    {
     "data": {
      "text/plain": [
       "AlexanderGovernResult(statistic=1.2033487069827733, pvalue=0.877546967829448)"
      ]
     },
     "execution_count": 47,
     "metadata": {},
     "output_type": "execute_result"
    }
   ],
   "source": [
    "# AG test comparing values taken from the same lighting condition\n",
    "\n",
    "alexandergovern(df_fluorescent_led.iloc[:5]['mean_event_rate'],\n",
    "                df_fluorescent_led.iloc[5:10]['mean_event_rate'],\n",
    "                df_fluorescent_led.iloc[10:15]['mean_event_rate'],\n",
    "                df_fluorescent_led.iloc[15:20]['mean_event_rate'],\n",
    "                df_fluorescent_led.iloc[20:27]['mean_event_rate'],)"
   ]
  },
  {
   "cell_type": "code",
   "execution_count": 48,
   "id": "e0d7db67",
   "metadata": {},
   "outputs": [
    {
     "data": {
      "text/plain": [
       "AlexanderGovernResult(statistic=6.487726741209369, pvalue=0.16556534240735193)"
      ]
     },
     "execution_count": 48,
     "metadata": {},
     "output_type": "execute_result"
    }
   ],
   "source": [
    "# AG test comparing values taken from the same lighting condition\n",
    "\n",
    "alexandergovern(df_lab.iloc[:4]['mean_event_rate'],\n",
    "                df_lab.iloc[4:8]['mean_event_rate'],\n",
    "                df_lab.iloc[8:12]['mean_event_rate'],\n",
    "                df_lab.iloc[12:16]['mean_event_rate'],\n",
    "                df_lab.iloc[16:20]['mean_event_rate'],)"
   ]
  },
  {
   "cell_type": "code",
   "execution_count": 50,
   "id": "01e6794e",
   "metadata": {},
   "outputs": [
    {
     "data": {
      "text/plain": [
       "AlexanderGovernResult(statistic=0.49364840328055903, pvalue=0.9741163545866242)"
      ]
     },
     "execution_count": 50,
     "metadata": {},
     "output_type": "execute_result"
    }
   ],
   "source": [
    "# AG test comparing values taken from the same lighting condition\n",
    "\n",
    "alexandergovern(df_led.iloc[:5]['mean_event_rate'],\n",
    "                df_led.iloc[5:10]['mean_event_rate'],\n",
    "                df_led.iloc[10:15]['mean_event_rate'],\n",
    "                df_led.iloc[15:20]['mean_event_rate'],\n",
    "                df_led.iloc[20:27]['mean_event_rate'],)"
   ]
  },
  {
   "cell_type": "code",
   "execution_count": 49,
   "id": "d5a37ad0",
   "metadata": {},
   "outputs": [
    {
     "data": {
      "text/plain": [
       "AlexanderGovernResult(statistic=2.193848123082046, pvalue=0.7001557118468216)"
      ]
     },
     "execution_count": 49,
     "metadata": {},
     "output_type": "execute_result"
    }
   ],
   "source": [
    "# AG test comparing values taken from the same lighting condition\n",
    "\n",
    "alexandergovern(df_natural.iloc[:4]['mean_event_rate'],\n",
    "                df_natural.iloc[4:8]['mean_event_rate'],\n",
    "                df_natural.iloc[8:12]['mean_event_rate'],\n",
    "                df_natural.iloc[12:16]['mean_event_rate'],\n",
    "                df_natural.iloc[16:20]['mean_event_rate'],)"
   ]
  },
  {
   "cell_type": "code",
   "execution_count": null,
   "id": "5b996112",
   "metadata": {},
   "outputs": [],
   "source": []
  }
 ],
 "metadata": {
  "kernelspec": {
   "display_name": "Python 3",
   "language": "python",
   "name": "python3"
  },
  "language_info": {
   "codemirror_mode": {
    "name": "ipython",
    "version": 3
   },
   "file_extension": ".py",
   "mimetype": "text/x-python",
   "name": "python",
   "nbconvert_exporter": "python",
   "pygments_lexer": "ipython3",
   "version": "3.7.0"
  }
 },
 "nbformat": 4,
 "nbformat_minor": 5
}
